{
  "nbformat": 4,
  "nbformat_minor": 0,
  "metadata": {
    "colab": {
      "provenance": []
    },
    "kernelspec": {
      "name": "python3",
      "display_name": "Python 3"
    },
    "language_info": {
      "name": "python"
    }
  },
  "cells": [
    {
      "cell_type": "markdown",
      "source": [
        "What is Object-Oriented Programming (OOP)?\n",
        "Ans - Object-Oriented Programming (OOP) is a programming paradigm that organizes software design around objects, which are instances of classes. It focuses on using objects to represent real-world entities and their behaviors. Key principles of OOP include:\n",
        "\n",
        "1. **Encapsulation**: Bundling data and methods that operate on the data into a single unit (class), hiding internal details.\n",
        "2. **Inheritance**: Creating new classes from existing ones, inheriting attributes and methods.\n",
        "3. **Polymorphism**: Allowing different objects to be treated as instances of the same class, enabling method overriding.\n",
        "4. **Abstraction**: Hiding complex implementation details and showing only essential features of an object.\n",
        "\n",
        "OOP promotes code reuse, modularity, and easier maintenance."
      ],
      "metadata": {
        "id": "KUv_O1_K2rK-"
      }
    },
    {
      "cell_type": "markdown",
      "source": [
        "2 What is a class in OOP?\n",
        "Ans- A class in OOP is a blueprint for creating objects. It defines the properties (attributes) and behaviors (methods) that the objects created from the class will have."
      ],
      "metadata": {
        "id": "HXZ49UaK3Ags"
      }
    },
    {
      "cell_type": "markdown",
      "source": [
        "3 What is an object in OOP?\n",
        "Ans An object in OOP is an instance of a class. It represents a specific entity with attributes and methods defined by its class. Objects interact with each other and can have unique states while sharing the same structure and behavior defined by the class."
      ],
      "metadata": {
        "id": "FmmctwD73K-l"
      }
    },
    {
      "cell_type": "markdown",
      "source": [
        "4 What is the difference between abstraction and encapsulation?\n",
        "Ans - **Abstraction** hides the complexity of implementation and shows only the essential features of an object. It focuses on \"what\" an object does, not \"how\" it does it.\n",
        "  \n",
        "- **Encapsulation** refers to bundling data (attributes) and methods that operate on the data into a single unit or class. It hides the internal state and only exposes a controlled interface to the outside world."
      ],
      "metadata": {
        "id": "dV8Xp89f3YAS"
      }
    },
    {
      "cell_type": "markdown",
      "source": [
        "5 What are dunder methods in Python?\n",
        "Ans- Dunder methods (short for \"double underscore\" methods) are special methods in Python that begin and end with two underscores, like `__init__`, `__str__`, and `__len__`. They are used to define the behavior of objects in specific situations, such as object initialization, string representation, and length calculation."
      ],
      "metadata": {
        "id": "5mKLE3923jNh"
      }
    },
    {
      "cell_type": "markdown",
      "source": [
        "6 Explain the concept of inheritance in OOP\n",
        "Ans- Inheritance in OOP is a mechanism where a new class (subclass or derived class) inherits attributes and methods from an existing class (superclass or base class). This allows the subclass to reuse, extend, or modify the behavior of the superclass. It promotes code reuse and establishes a hierarchical relationship between classes."
      ],
      "metadata": {
        "id": "ttuUUudc3pfc"
      }
    },
    {
      "cell_type": "markdown",
      "source": [
        "7 What is polymorphism in OOP?\n",
        "Ans- Polymorphism in OOP is the ability of different objects to respond to the same method or message in their own way. It allows one interface to be used for different data types, meaning that a single method can perform different tasks based on the object it is called on. It can be achieved through method overriding or method overloading."
      ],
      "metadata": {
        "id": "abmpVREg3v8d"
      }
    },
    {
      "cell_type": "markdown",
      "source": [
        "8 How is encapsulation achieved in Python?\n",
        "Ans - In Python, encapsulation is achieved by restricting access to certain attributes or methods of a class. This is typically done using:\n",
        "\n",
        "- **Public members**: No underscores (e.g., `self.name`) are accessible from outside the class.\n",
        "- **Protected members**: One underscore (e.g., `_name`) indicates these are meant to be protected, but they are still accessible.\n",
        "- **Private members**: Two underscores (e.g., `__name`) make attributes or methods private, limiting access to within the class.\n",
        "\n",
        "Python doesn't strictly enforce access control, but these naming conventions signal the intended level of access."
      ],
      "metadata": {
        "id": "ZRrpBOgI3-JL"
      }
    },
    {
      "cell_type": "markdown",
      "source": [
        "9 What is a constructor in Python\n",
        "Ans- A constructor in Python is a special method `__init__()` that is automatically called when an object of a class is created. It initializes the object's attributes with initial values and sets up the object for use."
      ],
      "metadata": {
        "id": "WnuLIgi74F_n"
      }
    },
    {
      "cell_type": "markdown",
      "source": [
        "10  What are class and static methods in Python\n",
        "Ans Class Method: A method that is bound to the class and not the instance. It is defined using the @classmethod decorator and takes cls as its first parameter (which refers to the class itself, not an object). It can access and modify class-level attributes."
      ],
      "metadata": {
        "id": "ncIO64qR4Mdd"
      }
    },
    {
      "cell_type": "markdown",
      "source": [
        "11 What is method overloading in Python\n",
        "Ans - Method overloading in Python is the ability to define a method that can accept different types or numbers of arguments. While Python does not support traditional method overloading like other languages (e.g., Java), it can achieve similar functionality by using default parameters or variable-length arguments (`*args` and `**kwargs`). This allows a single method to handle different inputs based on how it's called."
      ],
      "metadata": {
        "id": "6-4kVmC_4XKA"
      }
    },
    {
      "cell_type": "markdown",
      "source": [
        "12 What is method overriding in OOP\n",
        "Ans -Method overriding in OOP is a feature that allows a subclass to provide its own implementation of a method that is already defined in its superclass. This enables the subclass to modify or extend the behavior of the inherited method while keeping the same method signature. It’s used to provide specific functionality in the subclass, while still maintaining a common interface."
      ],
      "metadata": {
        "id": "c_N6ZRGx4vmA"
      }
    },
    {
      "cell_type": "markdown",
      "source": [
        "13 What is a property decorator in Python\n",
        "Ans- A property decorator in Python is used to define a method as a property, which allows you to access it like an attribute, but with the ability to include logic when getting, setting, or deleting the value. It is typically used to create managed attributes without directly exposing their underlying implementation.\n",
        "\n",
        "The `@property` decorator is used to define a getter method, and you can also use `@<property_name>.setter` to define a setter method for setting the value, or `@<property_name>.deleter` to define a deleter method for removing the value. This helps in controlling access to instance variables."
      ],
      "metadata": {
        "id": "u6xk-Fd045aX"
      }
    },
    {
      "cell_type": "markdown",
      "source": [
        "14 Why is polymorphism important in OOP\n",
        "Ans- Polymorphism is important in OOP because it allows objects of different classes to be treated as objects of a common superclass. This promotes flexibility and reusability in the code. With polymorphism, a single method or function can work with objects of multiple types, leading to cleaner, more maintainable, and scalable code. It enables method overriding and interfaces that allow different behaviors depending on the object, making the system easier to extend and modify."
      ],
      "metadata": {
        "id": "naOJ69cw5COi"
      }
    },
    {
      "cell_type": "markdown",
      "source": [
        "15 What is an abstract class in Python\n",
        "Ans- An abstract class in Python is a class that cannot be instantiated directly and is designed to be subclassed. It can contain abstract methods, which are methods that are declared but contain no implementation. Subclasses must implement these abstract methods to provide specific functionality. Abstract classes are defined using the `abc` (Abstract Base Class) module, and the class is marked as abstract by inheriting from `ABC` and using the `@abstractmethod` decorator."
      ],
      "metadata": {
        "id": "rlgw91TB5JYU"
      }
    },
    {
      "cell_type": "markdown",
      "source": [
        "16  What are the advantages of OOP\n",
        "Ans- OOP offers several advantages:\n",
        "\n",
        "1. **Modularity**: Organizes code into objects, improving manageability.\n",
        "2. **Reusability**: Classes and objects can be reused.\n",
        "3. **Scalability**: Easier to extend and maintain.\n",
        "4. **Encapsulation**: Protects data from unintended changes.\n",
        "5. **Inheritance**: Promotes code reuse.\n",
        "6. **Polymorphism**: Allows the same method to work with different objects.\n",
        "7. **Abstraction**: Hides complex details, simplifying usage."
      ],
      "metadata": {
        "id": "in7dTFJi5Ppc"
      }
    },
    {
      "cell_type": "markdown",
      "source": [
        "17 What is the difference between a class variable and an instance variable\n",
        "Ans- - **Class Variable**: A variable shared by all instances of a class. It is defined inside the class but outside of any methods. It is accessed using the class name or an instance, and its value is common across all instances.\n",
        "\n",
        "- **Instance Variable**: A variable specific to each instance of the class. It is defined inside the `__init__()` method and is unique to each object created from the class."
      ],
      "metadata": {
        "id": "cJLbLcea5dAQ"
      }
    },
    {
      "cell_type": "markdown",
      "source": [
        "18 What is multiple inheritance in Python\n",
        "Ans- Multiple inheritance in Python is a feature where a class can inherit attributes and methods from more than one parent class. This allows a subclass to combine functionality from multiple base classes, promoting code reuse. However, it can also introduce complexity, especially with method resolution order (MRO) when multiple parent classes have conflicting methods."
      ],
      "metadata": {
        "id": "cj7fobu95jZE"
      }
    },
    {
      "cell_type": "markdown",
      "source": [
        "19 Explain the purpose of ‘’__str__’ and ‘__repr__’ ‘ methods in PythonH\n",
        "Ans - __str__: Defines the user-friendly string representation of an object, used by print() and str().\n",
        "\n",
        "__repr__: Defines the official string representation of an object, used by repr() for debugging, often aiming to be unambiguous and recreatable."
      ],
      "metadata": {
        "id": "eGGNIZaT5qrD"
      }
    },
    {
      "cell_type": "markdown",
      "source": [
        "20 What is the significance of the ‘super()’ function in Python\n",
        "Ans - The `super()` function in Python is used to call methods from a parent (or superclass) in a subclass. It allows a subclass to invoke methods from its superclass, ensuring that the parent class's method is executed. This is particularly useful in method overriding and multiple inheritance, enabling you to avoid directly referencing the parent class and making code more maintainable."
      ],
      "metadata": {
        "id": "4R4Mtlzi58R9"
      }
    },
    {
      "cell_type": "markdown",
      "source": [
        "21 What is the significance of the __del__ method in Python?\n",
        "Ans - The `__del__` method in Python is a special method used for object destruction or cleanup. It is automatically called when an object is about to be destroyed (i.e., when it is garbage collected). This method can be used to release resources like file handles or network connections. However, its use is generally discouraged in favor of context managers, as garbage collection timing is not always predictable."
      ],
      "metadata": {
        "id": "lBm3Mje36JWT"
      }
    },
    {
      "cell_type": "markdown",
      "source": [
        "22 What is the difference between @staticmethod and @classmethod in Python\n",
        "Ans- - **`@staticmethod`**: A method that does not depend on class or instance. It behaves like a regular function, but belongs to the class's namespace. It doesn't take `self` or `cls` as parameters.\n",
        "\n",
        "- **`@classmethod`**: A method that is bound to the class and not the instance. It takes `cls` as its first parameter, which refers to the class, and can modify class-level attributes. It is often used for factory methods."
      ],
      "metadata": {
        "id": "H67owk2u6SqG"
      }
    },
    {
      "cell_type": "markdown",
      "source": [
        "23 How does polymorphism work in Python with inheritance\n",
        "Ans-In Python, polymorphism allows different classes to define methods with the same name but different behaviors. When using inheritance, a subclass can override a method defined in its superclass. Polymorphism lets you call the same method on objects of different classes, and each class can provide its own specific implementation of that method.\n",
        "\n",
        "For example, if you have a parent class with a method and multiple child classes that override that method, calling the method on objects of each class will invoke the respective overridden version, demonstrating polymorphism."
      ],
      "metadata": {
        "id": "aYxSlCa26czu"
      }
    },
    {
      "cell_type": "markdown",
      "source": [
        "24 What is method chaining in Python OOP?\n",
        "Ans- Method chaining in Python OOP is a technique where multiple methods are called on the same object in a single line, one after another. Each method returns the object itself (or a modified version), allowing you to chain further method calls. This can make code more concise and readable, especially for objects that need to undergo multiple transformations or actions."
      ],
      "metadata": {
        "id": "xqeXvfkM6jxp"
      }
    },
    {
      "cell_type": "markdown",
      "source": [
        "25 What is the purpose of the __call__ method in Python?\n",
        "Ans - The `__call__` method in Python allows an instance of a class to be called as if it were a function. By defining the `__call__` method in a class, you can make objects of that class callable. This is useful when you want to encapsulate functionality in an object and use it like a function, providing more flexibility in how objects are used."
      ],
      "metadata": {
        "id": "qrkLUotg6rYL"
      }
    },
    {
      "cell_type": "code",
      "execution_count": null,
      "metadata": {
        "colab": {
          "base_uri": "https://localhost:8080/",
          "height": 1000
        },
        "id": "1P5CnmtKrK3D",
        "outputId": "a05a3bd6-0d76-4ace-9a00-826e449a6067"
      },
      "outputs": [
        {
          "output_type": "execute_result",
          "data": {
            "text/plain": [
              "'Ans -\\nclass Animal:\\n  def speak(self):\\n    print (\"Hello\")\\nclass Dog (Animal):\\n  def speak(self):\\n    print (\"Bark\")\\nSound = Dog()\\nSound.speak()'"
            ],
            "application/vnd.google.colaboratory.intrinsic+json": {
              "type": "string"
            }
          },
          "metadata": {},
          "execution_count": 1
        }
      ],
      "source": [
        "#PQ 1  Create a parent class Animal with a method speak() that prints a generic message. Create a child class Dog that overrides the speak() method to print \"Bark!\".\n",
        "'''Ans -\n",
        "class Animal:\n",
        "  def speak(self):\n",
        "    print (\"Hello\")\n",
        "class Dog (Animal):\n",
        "  def speak(self):\n",
        "    print (\"Bark\")\n",
        "Sound = Dog()\n",
        "Sound.speak()'''"
      ]
    },
    {
      "cell_type": "code",
      "source": [
        "# PQ 2 Write a program to create an abstract class Shape with a method area(). Derive classes Circle and Rectangle from it and implement the area() method in both.\n",
        "'''Ans -\n",
        "class shape:\n",
        "  @abc.abstractmethod\n",
        "  def calculate_area(self):\n",
        "    pass\n",
        "class rectange(shape):\n",
        "  def calculate_area(self):\n",
        "    return \"Area of rect is len * breadth\"\n",
        "class circle(shape):\n",
        "  def calculate_area(self):\n",
        "    return \"Area of circle is pi r**2\"\n",
        "rect = rectange()\n",
        "rect.calculate_area()\n",
        "cir = circle()\n",
        "cir.calculate_area()'''"
      ],
      "metadata": {
        "id": "iBSe0ecMsMiM",
        "colab": {
          "base_uri": "https://localhost:8080/",
          "height": 70
        },
        "outputId": "3d13dd2b-5e0c-4191-b8ea-8de411fbcca6"
      },
      "execution_count": null,
      "outputs": [
        {
          "output_type": "execute_result",
          "data": {
            "text/plain": [
              "'Ans -\\nclass shape:\\n  @abc.abstractmethod\\n  def calculate_area(self):\\n    pass\\nclass rectange(shape):\\n  def calculate_area(self):\\n    return \"Area of rect is len * breadth\"\\nclass circle(shape):\\n  def calculate_area(self):\\n    return \"Area of circle is pi r**2\"\\nrect = rectange()\\nrect.calculate_area()\\ncir = circle()\\ncir.calculate_area()'"
            ],
            "application/vnd.google.colaboratory.intrinsic+json": {
              "type": "string"
            }
          },
          "metadata": {},
          "execution_count": 1
        }
      ]
    },
    {
      "cell_type": "code",
      "source": [
        "# PQ 3 Implement a multi-level inheritance scenario where a class Vehicle has an attribute type. Derive a class Car and further derive a class ElectricCar that adds a battery attribute.\n",
        "''' Ans -\n",
        "class Vehicle:\n",
        "  def method_vehicle(self, name):\n",
        "    print (\"This class is of vehicle\", name)\n",
        "class Car(Vehicle):\n",
        "  def method_car(self):\n",
        "    print (\"This class is of car\")\n",
        "class ElectricCar(Car):\n",
        "  def method_ElectricCar(self, battery):\n",
        "    print (\"This class of of Electric Car\", battery)\n",
        "elc= ElectricCar()\n",
        "elc.method_ElectricCar(\"20KWH\")'''"
      ],
      "metadata": {
        "colab": {
          "base_uri": "https://localhost:8080/",
          "height": 70
        },
        "id": "spS1WX2XTth4",
        "outputId": "3f272fb5-a0f4-41c8-a136-38ab591111e9"
      },
      "execution_count": null,
      "outputs": [
        {
          "output_type": "execute_result",
          "data": {
            "text/plain": [
              "' Ans - \\nclass Vehicle:\\n  def method_vehicle(self, name):\\n    print (\"This class is of vehicle\", name)\\nclass Car(Vehicle):\\n  def method_car(self):\\n    print (\"This class is of car\")\\nclass ElectricCar(Car):\\n  def method_ElectricCar(self, battery):\\n    print (\"This class of of Electric Car\", battery)\\nelc= ElectricCar()\\nelc.method_ElectricCar(\"20KWH\")'"
            ],
            "application/vnd.google.colaboratory.intrinsic+json": {
              "type": "string"
            }
          },
          "metadata": {},
          "execution_count": 13
        }
      ]
    },
    {
      "cell_type": "code",
      "source": [
        "# PQ 4 Demonstrate polymorphism by creating a base class Bird with a method fly(). Create two derived classes Sparrow and Penguin that override the fly() method.\n",
        "'''Ans-\n",
        "class Bird:\n",
        "  def fly(self):\n",
        "    print (\"Can you fly\")\n",
        "class Sparrow(Bird):\n",
        "  def fly(self) :\n",
        "    print (\"Sparrow can fly\")\n",
        "class Penguin(Bird):\n",
        "  def fly(self):\n",
        "    print (\"Penguin cannot fly\")\n",
        "flying_test1= Penguin()\n",
        "flying_test2= Sparrow()\n",
        "FT= [flying_test1, flying_test2]\n",
        "def result(FT):\n",
        "  for i in FT:\n",
        "    i.fly()\n",
        "result(FT)\n",
        "Output-\n",
        "Penguin cannot fly\n",
        "Sparrow can fly'''"
      ],
      "metadata": {
        "id": "lwpbzRkMV8S3"
      },
      "execution_count": null,
      "outputs": []
    },
    {
      "cell_type": "code",
      "source": [
        "# PQ5  Write a program to demonstrate encapsulation by creating a class BankAccount with private attributes balance and methods to deposit, withdraw, and check balance.\n",
        "'''Ans -\n",
        "class BankAccount:\n",
        "  def __init__(self, balance):\n",
        "    self.__balance= balance\n",
        "  def deposit (self, amount):\n",
        "    self.__balance= self.__balance + amount\n",
        "  def withdraw (self, amount):\n",
        "    if self.__balance>= amount:\n",
        "      self.__balance= self.__balance- amount\n",
        "      return True\n",
        "    else:\n",
        "      return False\n",
        "  def get_balance(self):\n",
        "    return self.__balance\n",
        "acc1= BankAccount(7000)\n",
        "acc1.deposit(8700)\n",
        "acc1.get_balance()\n",
        "Output - 15700\n",
        "acc1.withdraw(700)\n",
        "Output- True\n",
        "acc1.get_balance()\n",
        "Output- 15000'''"
      ],
      "metadata": {
        "colab": {
          "base_uri": "https://localhost:8080/",
          "height": 87
        },
        "id": "LtdhQUnAkz7G",
        "outputId": "f6fce69c-2e4d-4c16-e69b-90056f19508f"
      },
      "execution_count": null,
      "outputs": [
        {
          "output_type": "execute_result",
          "data": {
            "text/plain": [
              "'Ans -\\nclass BankAccount:\\n  def __init__(self, balance):\\n    self.__balance= balance\\n  def deposit (self, amount):\\n    self.__balance= self.__balance + amount \\n  def withdraw (self, amount):\\n    if self.__balance>= amount:\\n      self.__balance= self.__balance- amount\\n      return True\\n    else:\\n      return False\\n  def get_balance(self):\\n    return self.__balance\\nacc1= BankAccount(7000)\\nacc1.deposit(8700)\\nacc1.get_balance()\\nOutput - 15700\\nacc1.withdraw(700)\\nOutput- True\\nacc1.get_balance()\\nOutput- 15000'"
            ],
            "application/vnd.google.colaboratory.intrinsic+json": {
              "type": "string"
            }
          },
          "metadata": {},
          "execution_count": 2
        }
      ]
    },
    {
      "cell_type": "code",
      "source": [
        "#PQ 6  Demonstrate runtime polymorphism using a method play() in a base class Instrument. Derive classes Guitar and Piano that implement their own version of play().\n",
        "'''Ans-\n",
        "class Instrument:\n",
        "  def play(self):\n",
        "    print (\"All instruments play here\")\n",
        "class Guitar(Instrument):\n",
        "  def play(self):\n",
        "    print (\"Guitar is playing\")\n",
        "class Piano(Instrument):\n",
        "  def play(self):\n",
        "    print (\"Piano is playing\")\n",
        "Pia= Piano()\n",
        "Gui= Guitar()\n",
        "Lessons= [Pia, Gui]\n",
        "def sound(Lessons):\n",
        "  for i in Lessons:\n",
        "    i.play()\n",
        "sound(Lessons)\n",
        "Output-\n",
        "Piano is playing\n",
        "Guitar is playing'''"
      ],
      "metadata": {
        "colab": {
          "base_uri": "https://localhost:8080/",
          "height": 70
        },
        "id": "XWVCn1ZLlZMR",
        "outputId": "62ac8c73-191d-4f23-cda9-f32db2a3cb82"
      },
      "execution_count": null,
      "outputs": [
        {
          "output_type": "execute_result",
          "data": {
            "text/plain": [
              "'Ans-\\nclass Instrument:\\n  def play(self):\\n    print (\"All instruments play here\")\\nclass Guitar(Instrument):\\n  def play(self):\\n    print (\"Guitar is playing\")\\nclass Piano(Instrument):\\n  def play(self):\\n    print (\"Piano is playing\")\\nPia= Piano()\\nGui= Guitar()\\nLessons= [Pia, Gui]\\ndef sound(Lessons):\\n  for i in Lessons:\\n    i.play()\\nsound(Lessons)\\nOutput- \\nPiano is playing\\nGuitar is playing'"
            ],
            "application/vnd.google.colaboratory.intrinsic+json": {
              "type": "string"
            }
          },
          "metadata": {},
          "execution_count": 1
        }
      ]
    },
    {
      "cell_type": "code",
      "source": [
        "#PQ7  Create a class MathOperations with a class method add_numbers() to add two numbers and a static method subtract_numbers() to subtract two numbers\n",
        "''' Ans\n",
        "class Calculator:\n",
        "  @classmethod\n",
        "  def add (cls,x,y):\n",
        "    return x+y\n",
        "  @staticmethod\n",
        "  def sub(x,y):\n",
        "    return x-y\n",
        "Calculator.add(8,6)\n",
        "Output- 14\n",
        "Calculator.sub(8,4)\n",
        "Output- 4'''"
      ],
      "metadata": {
        "id": "y2RGCYhDQDKC"
      },
      "execution_count": null,
      "outputs": []
    },
    {
      "cell_type": "code",
      "source": [
        "#PQ8. Implement a class Person with a class method to count the total number of persons created.\n",
        "'''Ans-\n",
        "class Person:\n",
        "  total_count= 0\n",
        "  def __init__(self, name):\n",
        "    self.name= name\n",
        "    Person.total_count= Person.total_count+1\n",
        "  @classmethod\n",
        "  def get_total_person(cls):\n",
        "    return cls.total_count\n",
        "Per1= Person(\"Haaris\")\n",
        "Per2= Person(\"Maaz\")\n",
        "Person.get_total_person()\n",
        "Output- 2'''"
      ],
      "metadata": {
        "id": "r4ZlyYFdTMDO",
        "colab": {
          "base_uri": "https://localhost:8080/"
        },
        "outputId": "3e5754d0-3ff9-4ad8-e3d9-957b495dbe73"
      },
      "execution_count": null,
      "outputs": [
        {
          "output_type": "execute_result",
          "data": {
            "text/plain": [
              "2"
            ]
          },
          "metadata": {},
          "execution_count": 17
        }
      ]
    },
    {
      "cell_type": "code",
      "source": [
        "#PQ9  Write a class Fraction with attributes numerator and denominator. Override the str method to display the fraction as \"numerator/denominator\"\n",
        "dir(str)\n",
        "''' Ans -\n",
        "class Fraction:\n",
        "    def __init__(self, numerator, denominator):\n",
        "        self.numerator = numerator\n",
        "        self.denominator = denominator\n",
        "\n",
        "    def __str__(self):\n",
        "        return f\"{self.numerator}/{self.denominator\"\n",
        "\n",
        "\n",
        "# Example usage:\n",
        "f = Fraction(3, 4)\n",
        "print(f)  # Output: 3/4'''\n"
      ],
      "metadata": {
        "colab": {
          "base_uri": "https://localhost:8080/",
          "height": 53
        },
        "id": "zj4C11lHxQjx",
        "outputId": "4d1a7c25-91ba-4374-c43f-d432d78af5e3"
      },
      "execution_count": 1,
      "outputs": [
        {
          "output_type": "execute_result",
          "data": {
            "text/plain": [
              "' Ans - \\nclass Fraction:\\n    def __init__(self, numerator, denominator):\\n        self.numerator = numerator\\n        self.denominator = denominator\\n\\n    def __str__(self):\\n        return f\"{self.numerator}/{self.denominator\"\\n\\n\\n# Example usage:\\nf = Fraction(3, 4)\\nprint(f)  # Output: 3/4'"
            ],
            "application/vnd.google.colaboratory.intrinsic+json": {
              "type": "string"
            }
          },
          "metadata": {},
          "execution_count": 1
        }
      ]
    },
    {
      "cell_type": "code",
      "source": [
        "# PQ9 Demonstrate operator overloading by creating a class Vector and overriding the add method to add two vectors.\n",
        "'''Ans -\n",
        "class Vector:\n",
        "    def __init__(self, x, y):\n",
        "        self.x = x\n",
        "        self.y = y\n",
        "\n",
        "    def __add__(self, other):\n",
        "        return Vector(self.x + other.x, self.y + other.y)\n",
        "\n",
        "    def __str__(self):\n",
        "        return f\"({self.x}, {self.y})\"\n",
        "\n",
        "\n",
        "# Example usage:\n",
        "v1 = Vector(2, 3)\n",
        "v2 = Vector(4, 5)\n",
        "v3 = v1 + v2  # Uses the'''\n"
      ],
      "metadata": {
        "id": "7HOX133J1rtw"
      },
      "execution_count": null,
      "outputs": []
    },
    {
      "cell_type": "code",
      "source": [
        "#PQ 11 . Create a class Person with attributes name and age. Add a method greet() that prints \"Hello, my name is {name} and I am {age} years old.\"\n",
        "'''Ans-\n",
        "class Person:\n",
        "    def __init__(self, name, age):\n",
        "        self.name = name\n",
        "        self.age = age\n",
        "\n",
        "    def greet(self):\n",
        "        print(f\"Hello, my name is {self.name} and I am {self.age} years old.\")\n",
        "\n",
        "\n",
        "# Example usage:\n",
        "p = Person(\"Alice\", 30)\n",
        "p.greet()  # Output: Hello, my name is Alice and I am 30 years old.'''"
      ],
      "metadata": {
        "id": "hEcdZNIAy1Ja"
      },
      "execution_count": null,
      "outputs": []
    },
    {
      "cell_type": "code",
      "source": [
        "#PQ 12 Implement a class Student with attributes name and grades. Create a method average_grade() to compute the average of the grades.\n",
        "'''Ans -\n",
        "class Student:\n",
        "    def __init__(self, name, grades):\n",
        "        self.name = name\n",
        "        self.grades = grades  # grades should be a list of numbers\n",
        "\n",
        "    def average_grade(self):\n",
        "        if not self.grades:\n",
        "            return 0\n",
        "        return sum(self.grades) / len(self.grades)\n",
        "\n",
        "\n",
        "# Example usage:\n",
        "s = Student(\"John\", [85, 90, 78, 92])\n",
        "print(f\"{s.name}'s average grade is {s.average_grade():.2f}\")\n",
        "# Output: John's average grade is 86.25'''"
      ],
      "metadata": {
        "id": "UiXJB5TZ034a"
      },
      "execution_count": null,
      "outputs": []
    },
    {
      "cell_type": "code",
      "source": [
        "#PQ 13  Create a class Rectangle with methods set_dimensions() to set the dimensions and area() to calculate the area.\n",
        "'''Ans-\n",
        "class Rectangle:\n",
        "    def __init__(self):\n",
        "        self.length = 0\n",
        "        self.width = 0\n",
        "\n",
        "    def set_dimensions(self, length, width):\n",
        "        self.length = length\n",
        "        self.width = width\n",
        "\n",
        "    def area(self):\n",
        "        return self.length * self.width\n",
        "\n",
        "\n",
        "# Example usage:\n",
        "rect = Rectangle()\n",
        "rect.set_dimensions(5, 3)\n",
        "print(f\"The area of the rectangle is {rect.area()}\")\n",
        "# Output: The area of the rectangle is 15'''"
      ],
      "metadata": {
        "id": "AB1lxkN_1CGW"
      },
      "execution_count": null,
      "outputs": []
    },
    {
      "cell_type": "code",
      "source": [
        "#PQ 14 Create a class Employee with a method calculate_salary() that computes the salary based on hours worked and hourly rate. Create a derived class Manager that adds a bonus to the salary.\n",
        "'''Ans -\n",
        "class Employee:\n",
        "    def __init__(self, name, hours_worked, hourly_rate):\n",
        "        self.name = name\n",
        "        self.hours_worked = hours_worked\n",
        "        self.hourly_rate = hourly_rate\n",
        "\n",
        "    def calculate_salary(self):\n",
        "        return self.hours_worked * self.hourly_rate\n",
        "\n",
        "\n",
        "class Manager(Employee):\n",
        "    def __init__(self, name, hours_worked, hourly_rate, bonus):\n",
        "        super().__init__(name, hours_worked, hourly_rate)\n",
        "        self.bonus = bonus\n",
        "\n",
        "    def calculate_salary(self):\n",
        "        base_salary = super().calculate_salary()\n",
        "        return base_salary + self.bonus\n",
        "\n",
        "\n",
        "# Example usage:\n",
        "emp = Employee(\"Alice\", 40, 20)\n",
        "print(f\"{emp.name}'s salary: ${emp.calculate_salary()}\")\n",
        "\n",
        "mgr = Manager(\"Bob\", 40, 30, 500)\n",
        "print(f\"{mgr.name}'s salary: ${mgr.calculate_salary()}\")'''"
      ],
      "metadata": {
        "id": "vqABlZbN1Q39"
      },
      "execution_count": null,
      "outputs": []
    },
    {
      "cell_type": "code",
      "source": [
        "#PQ 15  Create a class Product with attributes name, price, and quantity. Implement a method total_price() that calculates the total price of the product.\n",
        "'''Ans-\n",
        "class Product:\n",
        "    def __init__(self, name, price, quantity):\n",
        "        self.name = name\n",
        "        self.price = price\n",
        "        self.quantity = quantity\n",
        "\n",
        "    def total_price(self):\n",
        "        return self.price * self.quantity\n",
        "\n",
        "\n",
        "# Example usage:\n",
        "p = Product(\"Laptop\", 800, 2)\n",
        "print(f\"Total price for {p.quantity} {p.name}(s): ${p.total_price()}\")\n",
        "# Output: Total price for 2 Laptop(s): $1600'''"
      ],
      "metadata": {
        "id": "qcxv4FFl1oHA"
      },
      "execution_count": 2,
      "outputs": []
    },
    {
      "cell_type": "code",
      "source": [
        "#PQ 16 Create a class Animal with an abstract method sound(). Create two derived classes Cow and Sheep that implement the sound() method.\n",
        "'''Ans-\n",
        "from abc import ABC, abstractmethod\n",
        "\n",
        "class Animal(ABC):\n",
        "    @abstractmethod\n",
        "    def sound(self):\n",
        "        pass\n",
        "\n",
        "\n",
        "class Cow(Animal):\n",
        "    def sound(self):\n",
        "        return \"Moo\"\n",
        "\n",
        "\n",
        "class Sheep(Animal):\n",
        "    def sound(self):\n",
        "        return \"Baa\"\n",
        "\n",
        "\n",
        "# Example usage:\n",
        "cow = Cow()\n",
        "sheep = Sheep()\n",
        "\n",
        "print(f\"Cow says: {cow.sound()}\")\n",
        "print(f\"Sheep says: {sheep.sound()}\")'''"
      ],
      "metadata": {
        "id": "SuYfQW5210lE"
      },
      "execution_count": null,
      "outputs": []
    },
    {
      "cell_type": "code",
      "source": [
        "# PQ 17  Create a class Book with attributes title, author, and year_published. Add a method get_book_info() that returns a formatted string with the book's details\n",
        "'''Ans-\n",
        "\n",
        "class Book:\n",
        "    def __init__(self, title, author, year_published):\n",
        "        self.title = title\n",
        "        self.author = author\n",
        "        self.year_published = year_published\n",
        "\n",
        "    def get_book_info(self):\n",
        "        return f\"'{self.title}' by {self.author} (Published in {self.year_published})\"\n",
        "\n",
        "\n",
        "# Example usage:\n",
        "book = Book(\"1984\", \"George Orwell\", 1949)\n",
        "print(book.get_book_info())\n",
        "# Output: '1984' by George Orwell (Published in 1949)'''"
      ],
      "metadata": {
        "id": "g0bqHBIs2AGx"
      },
      "execution_count": null,
      "outputs": []
    },
    {
      "cell_type": "code",
      "source": [
        "#PQ 18  Create a class House with attributes address and price. Create a derived class Mansion that adds an attribute number_of_rooms\n",
        "'''Ans-\n",
        "class House:\n",
        "    def __init__(self, address, price):\n",
        "        self.address = address\n",
        "        self.price = price\n",
        "\n",
        "    def get_details(self):\n",
        "        return f\"House at {self.address}, priced at ${self.price}\"\n",
        "\n",
        "\n",
        "class Mansion(House):\n",
        "    def __init__(self, address, price, number_of_rooms):\n",
        "        super().__init__(address, price)\n",
        "        self.number_of_rooms = number_of_rooms\n",
        "\n",
        "    def get_details(self):\n",
        "        base_details = super().get_details()\n",
        "        return f\"{base_details}, with {self.number_of_rooms} rooms\"\n",
        "\n",
        "\n",
        "# Example usage:\n",
        "house = House(\"123 Main St\", 250000)\n",
        "print(house.get_details())\n",
        "# Output: House at 123 Main St, priced at $250000\n",
        "\n",
        "mansion = Mansion(\"456 Luxury Ln\", 5000000, 12)\n",
        "print(mansion.get_details())\n",
        "# Output: House at 456 Luxury Ln, priced at $5000000, with 12 rooms'''"
      ],
      "metadata": {
        "id": "hbCLjjHY2KX_"
      },
      "execution_count": null,
      "outputs": []
    }
  ]
}